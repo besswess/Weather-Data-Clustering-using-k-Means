{
 "cells": [
  {
   "cell_type": "markdown",
   "metadata": {},
   "source": [
    "<p style=\"font-family: Arial; font-size:2.75em;color:purple; font-style:bold\"><br>\n",
    "\n",
    "Clustering with scikit-learn\n",
    "\n",
    "<br><br></p>"
   ]
  },
  {
   "cell_type": "markdown",
   "metadata": {},
   "source": [
    "In this notebook, we will learn how to perform k-means lustering using scikit-learn in Python. \n",
    "\n",
    "We will use cluster analysis to generate a big picture model of the weather at a local station using a minute-graunlarity data. In this dataset, we have in the order of millions records. How do we create 12 clusters our of them?\n",
    "\n",
    "**NOTE:** The dataset we will use is in a large CSV file called *minute_weather.csv*. Please download it into the *weather* directory in your *Week-7-MachineLearning* folder. The download link is: https://drive.google.com/open?id=0B8iiZ7pSaSFZb3ItQ1l4LWRMTjg "
   ]
  },
  {
   "cell_type": "markdown",
   "metadata": {},
   "source": [
    "<p style=\"font-family: Arial; font-size:1.75em;color:purple; font-style:bold\"><br>\n",
    "\n",
    "Importing the Necessary Libraries<br></p>"
   ]
  },
  {
   "cell_type": "code",
   "execution_count": 1,
   "metadata": {},
   "outputs": [],
   "source": [
    "from sklearn.preprocessing import StandardScaler\n",
    "from sklearn.cluster import KMeans\n",
    "import pandas as pd\n",
    "import numpy as np\n",
    "from itertools import cycle, islice\n",
    "import matplotlib.pyplot as plt\n",
    "from pandas.plotting import parallel_coordinates\n",
    "\n",
    "%matplotlib inline"
   ]
  },
  {
   "cell_type": "markdown",
   "metadata": {},
   "source": [
    "<p style=\"font-family: Arial; font-size:1.75em;color:purple; font-style:bold\"><br>\n",
    "\n",
    "Creating a Pandas DataFrame from a CSV file<br><br></p>\n"
   ]
  },
  {
   "cell_type": "code",
   "execution_count": 2,
   "metadata": {},
   "outputs": [],
   "source": [
    "data = pd.read_csv('./weather/minute_weather.csv')"
   ]
  },
  {
   "cell_type": "markdown",
   "metadata": {},
   "source": [
    "<p style=\"font-family: Arial; font-size:1.75em;color:purple; font-style:bold\">Minute Weather Data Description</p>\n",
    "<br>\n",
    "The **minute weather dataset** comes from the same source as the daily weather dataset that we used in the decision tree based classifier notebook. The main difference between these two datasets is that the minute weather dataset contains raw sensor measurements captured at one-minute intervals. Daily weather dataset instead contained processed and well curated data. The data is in the file **minute_weather.csv**, which is a comma-separated file.\n",
    "\n",
    "As with the daily weather data, this data comes from a weather station located in San Diego, California. The weather station is equipped with sensors that capture weather-related measurements such as air temperature, air pressure, and relative humidity. Data was collected for a period of three years, from September 2011 to September 2014, to ensure that sufficient data for different seasons and weather conditions is captured.\n",
    "\n",
    "Each row in **minute_weather.csv** contains weather data captured for a one-minute interval. Each row, or sample, consists of the following variables:\n",
    "\n",
    "* **rowID:** \tunique number for each row\t(*Unit: NA*)\n",
    "* **hpwren_timestamp:**\ttimestamp of measure\t(*Unit: year-month-day hour:minute:second*)\n",
    "* **air_pressure:** air pressure measured at the timestamp\t(*Unit: hectopascals*)\n",
    "* **air_temp:**\tair temperature measure at the timestamp\t(*Unit: degrees Fahrenheit*)\n",
    "* **avg_wind_direction:**\twind direction averaged over the minute before the timestamp\t(*Unit: degrees, with 0 means coming from the North, and increasing clockwise*)\n",
    "* **avg_wind_speed:**\twind speed averaged over the minute before the timestamp\t(*Unit: meters per second*)\n",
    "* **max_wind_direction:**\thighest wind direction in the minute before the timestamp\t(*Unit: degrees, with 0 being North and increasing clockwise*)\n",
    "* **max_wind_speed:**\thighest wind speed in the minute before the timestamp\t(*Unit: meters per second*)\n",
    "* **min_wind_direction:**\tsmallest wind direction in the minute before the timestamp\t(*Unit: degrees, with 0 being North and inceasing clockwise*)\n",
    "* **min_wind_speed:**\tsmallest wind speed in the minute before the timestamp\t(*Unit: meters per second*)\n",
    "* **rain_accumulation:**\tamount of accumulated rain measured at the timestamp\t(*Unit: millimeters*)\n",
    "* **rain_duration:**\tlength of time rain has fallen as measured at the timestamp\t(*Unit: seconds*)\n",
    "* **relative_humidity:**\trelative humidity measured at the timestamp\t(*Unit: percent*)"
   ]
  },
  {
   "cell_type": "code",
   "execution_count": 3,
   "metadata": {},
   "outputs": [
    {
     "data": {
      "text/plain": [
       "(1587257, 13)"
      ]
     },
     "execution_count": 3,
     "metadata": {},
     "output_type": "execute_result"
    }
   ],
   "source": [
    "data.shape #show dimension\n",
    "#data.shape[0] show number of rows "
   ]
  },
  {
   "cell_type": "code",
   "execution_count": 4,
   "metadata": {},
   "outputs": [
    {
     "data": {
      "text/html": [
       "<div>\n",
       "<style scoped>\n",
       "    .dataframe tbody tr th:only-of-type {\n",
       "        vertical-align: middle;\n",
       "    }\n",
       "\n",
       "    .dataframe tbody tr th {\n",
       "        vertical-align: top;\n",
       "    }\n",
       "\n",
       "    .dataframe thead th {\n",
       "        text-align: right;\n",
       "    }\n",
       "</style>\n",
       "<table border=\"1\" class=\"dataframe\">\n",
       "  <thead>\n",
       "    <tr style=\"text-align: right;\">\n",
       "      <th></th>\n",
       "      <th>rowID</th>\n",
       "      <th>hpwren_timestamp</th>\n",
       "      <th>air_pressure</th>\n",
       "      <th>air_temp</th>\n",
       "      <th>avg_wind_direction</th>\n",
       "      <th>avg_wind_speed</th>\n",
       "      <th>max_wind_direction</th>\n",
       "      <th>max_wind_speed</th>\n",
       "      <th>min_wind_direction</th>\n",
       "      <th>min_wind_speed</th>\n",
       "      <th>rain_accumulation</th>\n",
       "      <th>rain_duration</th>\n",
       "      <th>relative_humidity</th>\n",
       "    </tr>\n",
       "  </thead>\n",
       "  <tbody>\n",
       "    <tr>\n",
       "      <td>0</td>\n",
       "      <td>0</td>\n",
       "      <td>2011-09-10 00:00:49</td>\n",
       "      <td>912.3</td>\n",
       "      <td>64.76</td>\n",
       "      <td>97.0</td>\n",
       "      <td>1.2</td>\n",
       "      <td>106.0</td>\n",
       "      <td>1.6</td>\n",
       "      <td>85.0</td>\n",
       "      <td>1.0</td>\n",
       "      <td>NaN</td>\n",
       "      <td>NaN</td>\n",
       "      <td>60.5</td>\n",
       "    </tr>\n",
       "    <tr>\n",
       "      <td>1</td>\n",
       "      <td>1</td>\n",
       "      <td>2011-09-10 00:01:49</td>\n",
       "      <td>912.3</td>\n",
       "      <td>63.86</td>\n",
       "      <td>161.0</td>\n",
       "      <td>0.8</td>\n",
       "      <td>215.0</td>\n",
       "      <td>1.5</td>\n",
       "      <td>43.0</td>\n",
       "      <td>0.2</td>\n",
       "      <td>0.0</td>\n",
       "      <td>0.0</td>\n",
       "      <td>39.9</td>\n",
       "    </tr>\n",
       "    <tr>\n",
       "      <td>2</td>\n",
       "      <td>2</td>\n",
       "      <td>2011-09-10 00:02:49</td>\n",
       "      <td>912.3</td>\n",
       "      <td>64.22</td>\n",
       "      <td>77.0</td>\n",
       "      <td>0.7</td>\n",
       "      <td>143.0</td>\n",
       "      <td>1.2</td>\n",
       "      <td>324.0</td>\n",
       "      <td>0.3</td>\n",
       "      <td>0.0</td>\n",
       "      <td>0.0</td>\n",
       "      <td>43.0</td>\n",
       "    </tr>\n",
       "    <tr>\n",
       "      <td>3</td>\n",
       "      <td>3</td>\n",
       "      <td>2011-09-10 00:03:49</td>\n",
       "      <td>912.3</td>\n",
       "      <td>64.40</td>\n",
       "      <td>89.0</td>\n",
       "      <td>1.2</td>\n",
       "      <td>112.0</td>\n",
       "      <td>1.6</td>\n",
       "      <td>12.0</td>\n",
       "      <td>0.7</td>\n",
       "      <td>0.0</td>\n",
       "      <td>0.0</td>\n",
       "      <td>49.5</td>\n",
       "    </tr>\n",
       "    <tr>\n",
       "      <td>4</td>\n",
       "      <td>4</td>\n",
       "      <td>2011-09-10 00:04:49</td>\n",
       "      <td>912.3</td>\n",
       "      <td>64.40</td>\n",
       "      <td>185.0</td>\n",
       "      <td>0.4</td>\n",
       "      <td>260.0</td>\n",
       "      <td>1.0</td>\n",
       "      <td>100.0</td>\n",
       "      <td>0.1</td>\n",
       "      <td>0.0</td>\n",
       "      <td>0.0</td>\n",
       "      <td>58.8</td>\n",
       "    </tr>\n",
       "  </tbody>\n",
       "</table>\n",
       "</div>"
      ],
      "text/plain": [
       "   rowID     hpwren_timestamp  air_pressure  air_temp  avg_wind_direction  \\\n",
       "0      0  2011-09-10 00:00:49         912.3     64.76                97.0   \n",
       "1      1  2011-09-10 00:01:49         912.3     63.86               161.0   \n",
       "2      2  2011-09-10 00:02:49         912.3     64.22                77.0   \n",
       "3      3  2011-09-10 00:03:49         912.3     64.40                89.0   \n",
       "4      4  2011-09-10 00:04:49         912.3     64.40               185.0   \n",
       "\n",
       "   avg_wind_speed  max_wind_direction  max_wind_speed  min_wind_direction  \\\n",
       "0             1.2               106.0             1.6                85.0   \n",
       "1             0.8               215.0             1.5                43.0   \n",
       "2             0.7               143.0             1.2               324.0   \n",
       "3             1.2               112.0             1.6                12.0   \n",
       "4             0.4               260.0             1.0               100.0   \n",
       "\n",
       "   min_wind_speed  rain_accumulation  rain_duration  relative_humidity  \n",
       "0             1.0                NaN            NaN               60.5  \n",
       "1             0.2                0.0            0.0               39.9  \n",
       "2             0.3                0.0            0.0               43.0  \n",
       "3             0.7                0.0            0.0               49.5  \n",
       "4             0.1                0.0            0.0               58.8  "
      ]
     },
     "execution_count": 4,
     "metadata": {},
     "output_type": "execute_result"
    }
   ],
   "source": [
    "data.head()"
   ]
  },
  {
   "cell_type": "markdown",
   "metadata": {},
   "source": [
    "<p style=\"font-family: Arial; font-size:1.75em;color:purple; font-style:bold\"><br>\n",
    "\n",
    "Data Sampling<br></p>\n",
    "\n",
    "Lots of rows, so let us sample down by taking every 10th row. <br>\n"
   ]
  },
  {
   "cell_type": "code",
   "execution_count": 5,
   "metadata": {},
   "outputs": [
    {
     "data": {
      "text/plain": [
       "0           True\n",
       "1          False\n",
       "2          False\n",
       "3          False\n",
       "4          False\n",
       "           ...  \n",
       "1587252    False\n",
       "1587253    False\n",
       "1587254    False\n",
       "1587255    False\n",
       "1587256    False\n",
       "Name: rowID, Length: 1587257, dtype: bool"
      ]
     },
     "execution_count": 5,
     "metadata": {},
     "output_type": "execute_result"
    }
   ],
   "source": [
    "(data['rowID'] % 10) == 0"
   ]
  },
  {
   "cell_type": "code",
   "execution_count": 6,
   "metadata": {
    "scrolled": true
   },
   "outputs": [
    {
     "data": {
      "text/html": [
       "<div>\n",
       "<style scoped>\n",
       "    .dataframe tbody tr th:only-of-type {\n",
       "        vertical-align: middle;\n",
       "    }\n",
       "\n",
       "    .dataframe tbody tr th {\n",
       "        vertical-align: top;\n",
       "    }\n",
       "\n",
       "    .dataframe thead th {\n",
       "        text-align: right;\n",
       "    }\n",
       "</style>\n",
       "<table border=\"1\" class=\"dataframe\">\n",
       "  <thead>\n",
       "    <tr style=\"text-align: right;\">\n",
       "      <th></th>\n",
       "      <th>rowID</th>\n",
       "      <th>hpwren_timestamp</th>\n",
       "      <th>air_pressure</th>\n",
       "      <th>air_temp</th>\n",
       "      <th>avg_wind_direction</th>\n",
       "      <th>avg_wind_speed</th>\n",
       "      <th>max_wind_direction</th>\n",
       "      <th>max_wind_speed</th>\n",
       "      <th>min_wind_direction</th>\n",
       "      <th>min_wind_speed</th>\n",
       "      <th>rain_accumulation</th>\n",
       "      <th>rain_duration</th>\n",
       "      <th>relative_humidity</th>\n",
       "    </tr>\n",
       "  </thead>\n",
       "  <tbody>\n",
       "    <tr>\n",
       "      <td>0</td>\n",
       "      <td>0</td>\n",
       "      <td>2011-09-10 00:00:49</td>\n",
       "      <td>912.3</td>\n",
       "      <td>64.76</td>\n",
       "      <td>97.0</td>\n",
       "      <td>1.2</td>\n",
       "      <td>106.0</td>\n",
       "      <td>1.6</td>\n",
       "      <td>85.0</td>\n",
       "      <td>1.0</td>\n",
       "      <td>NaN</td>\n",
       "      <td>NaN</td>\n",
       "      <td>60.5</td>\n",
       "    </tr>\n",
       "    <tr>\n",
       "      <td>10</td>\n",
       "      <td>10</td>\n",
       "      <td>2011-09-10 00:10:49</td>\n",
       "      <td>912.3</td>\n",
       "      <td>62.24</td>\n",
       "      <td>144.0</td>\n",
       "      <td>1.2</td>\n",
       "      <td>167.0</td>\n",
       "      <td>1.8</td>\n",
       "      <td>115.0</td>\n",
       "      <td>0.6</td>\n",
       "      <td>0.0</td>\n",
       "      <td>0.0</td>\n",
       "      <td>38.5</td>\n",
       "    </tr>\n",
       "    <tr>\n",
       "      <td>20</td>\n",
       "      <td>20</td>\n",
       "      <td>2011-09-10 00:20:49</td>\n",
       "      <td>912.2</td>\n",
       "      <td>63.32</td>\n",
       "      <td>100.0</td>\n",
       "      <td>2.0</td>\n",
       "      <td>122.0</td>\n",
       "      <td>2.5</td>\n",
       "      <td>91.0</td>\n",
       "      <td>1.5</td>\n",
       "      <td>0.0</td>\n",
       "      <td>0.0</td>\n",
       "      <td>58.3</td>\n",
       "    </tr>\n",
       "    <tr>\n",
       "      <td>30</td>\n",
       "      <td>30</td>\n",
       "      <td>2011-09-10 00:30:49</td>\n",
       "      <td>912.2</td>\n",
       "      <td>62.60</td>\n",
       "      <td>91.0</td>\n",
       "      <td>2.0</td>\n",
       "      <td>103.0</td>\n",
       "      <td>2.4</td>\n",
       "      <td>71.0</td>\n",
       "      <td>1.4</td>\n",
       "      <td>0.0</td>\n",
       "      <td>0.0</td>\n",
       "      <td>57.9</td>\n",
       "    </tr>\n",
       "    <tr>\n",
       "      <td>40</td>\n",
       "      <td>40</td>\n",
       "      <td>2011-09-10 00:40:49</td>\n",
       "      <td>912.2</td>\n",
       "      <td>64.04</td>\n",
       "      <td>81.0</td>\n",
       "      <td>2.6</td>\n",
       "      <td>88.0</td>\n",
       "      <td>2.9</td>\n",
       "      <td>68.0</td>\n",
       "      <td>1.4</td>\n",
       "      <td>0.0</td>\n",
       "      <td>0.0</td>\n",
       "      <td>57.4</td>\n",
       "    </tr>\n",
       "    <tr>\n",
       "      <td>...</td>\n",
       "      <td>...</td>\n",
       "      <td>...</td>\n",
       "      <td>...</td>\n",
       "      <td>...</td>\n",
       "      <td>...</td>\n",
       "      <td>...</td>\n",
       "      <td>...</td>\n",
       "      <td>...</td>\n",
       "      <td>...</td>\n",
       "      <td>...</td>\n",
       "      <td>...</td>\n",
       "      <td>...</td>\n",
       "      <td>...</td>\n",
       "    </tr>\n",
       "    <tr>\n",
       "      <td>1587210</td>\n",
       "      <td>1587210</td>\n",
       "      <td>2014-09-10 23:13:29</td>\n",
       "      <td>915.9</td>\n",
       "      <td>75.56</td>\n",
       "      <td>330.0</td>\n",
       "      <td>1.0</td>\n",
       "      <td>341.0</td>\n",
       "      <td>1.3</td>\n",
       "      <td>310.0</td>\n",
       "      <td>0.8</td>\n",
       "      <td>0.0</td>\n",
       "      <td>0.0</td>\n",
       "      <td>47.8</td>\n",
       "    </tr>\n",
       "    <tr>\n",
       "      <td>1587220</td>\n",
       "      <td>1587220</td>\n",
       "      <td>2014-09-10 23:23:29</td>\n",
       "      <td>915.9</td>\n",
       "      <td>75.56</td>\n",
       "      <td>330.0</td>\n",
       "      <td>1.1</td>\n",
       "      <td>341.0</td>\n",
       "      <td>1.4</td>\n",
       "      <td>316.0</td>\n",
       "      <td>0.9</td>\n",
       "      <td>0.0</td>\n",
       "      <td>0.0</td>\n",
       "      <td>48.0</td>\n",
       "    </tr>\n",
       "    <tr>\n",
       "      <td>1587230</td>\n",
       "      <td>1587230</td>\n",
       "      <td>2014-09-10 23:33:29</td>\n",
       "      <td>915.9</td>\n",
       "      <td>75.56</td>\n",
       "      <td>344.0</td>\n",
       "      <td>1.4</td>\n",
       "      <td>352.0</td>\n",
       "      <td>1.7</td>\n",
       "      <td>338.0</td>\n",
       "      <td>1.2</td>\n",
       "      <td>0.0</td>\n",
       "      <td>0.0</td>\n",
       "      <td>48.0</td>\n",
       "    </tr>\n",
       "    <tr>\n",
       "      <td>1587240</td>\n",
       "      <td>1587240</td>\n",
       "      <td>2014-09-10 23:43:29</td>\n",
       "      <td>915.9</td>\n",
       "      <td>75.20</td>\n",
       "      <td>359.0</td>\n",
       "      <td>1.3</td>\n",
       "      <td>9.0</td>\n",
       "      <td>1.6</td>\n",
       "      <td>347.0</td>\n",
       "      <td>1.0</td>\n",
       "      <td>0.0</td>\n",
       "      <td>0.0</td>\n",
       "      <td>46.3</td>\n",
       "    </tr>\n",
       "    <tr>\n",
       "      <td>1587250</td>\n",
       "      <td>1587250</td>\n",
       "      <td>2014-09-10 23:53:29</td>\n",
       "      <td>915.9</td>\n",
       "      <td>74.84</td>\n",
       "      <td>6.0</td>\n",
       "      <td>1.5</td>\n",
       "      <td>20.0</td>\n",
       "      <td>1.9</td>\n",
       "      <td>349.0</td>\n",
       "      <td>1.1</td>\n",
       "      <td>0.0</td>\n",
       "      <td>0.0</td>\n",
       "      <td>46.1</td>\n",
       "    </tr>\n",
       "  </tbody>\n",
       "</table>\n",
       "<p>158726 rows × 13 columns</p>\n",
       "</div>"
      ],
      "text/plain": [
       "           rowID     hpwren_timestamp  air_pressure  air_temp  \\\n",
       "0              0  2011-09-10 00:00:49         912.3     64.76   \n",
       "10            10  2011-09-10 00:10:49         912.3     62.24   \n",
       "20            20  2011-09-10 00:20:49         912.2     63.32   \n",
       "30            30  2011-09-10 00:30:49         912.2     62.60   \n",
       "40            40  2011-09-10 00:40:49         912.2     64.04   \n",
       "...          ...                  ...           ...       ...   \n",
       "1587210  1587210  2014-09-10 23:13:29         915.9     75.56   \n",
       "1587220  1587220  2014-09-10 23:23:29         915.9     75.56   \n",
       "1587230  1587230  2014-09-10 23:33:29         915.9     75.56   \n",
       "1587240  1587240  2014-09-10 23:43:29         915.9     75.20   \n",
       "1587250  1587250  2014-09-10 23:53:29         915.9     74.84   \n",
       "\n",
       "         avg_wind_direction  avg_wind_speed  max_wind_direction  \\\n",
       "0                      97.0             1.2               106.0   \n",
       "10                    144.0             1.2               167.0   \n",
       "20                    100.0             2.0               122.0   \n",
       "30                     91.0             2.0               103.0   \n",
       "40                     81.0             2.6                88.0   \n",
       "...                     ...             ...                 ...   \n",
       "1587210               330.0             1.0               341.0   \n",
       "1587220               330.0             1.1               341.0   \n",
       "1587230               344.0             1.4               352.0   \n",
       "1587240               359.0             1.3                 9.0   \n",
       "1587250                 6.0             1.5                20.0   \n",
       "\n",
       "         max_wind_speed  min_wind_direction  min_wind_speed  \\\n",
       "0                   1.6                85.0             1.0   \n",
       "10                  1.8               115.0             0.6   \n",
       "20                  2.5                91.0             1.5   \n",
       "30                  2.4                71.0             1.4   \n",
       "40                  2.9                68.0             1.4   \n",
       "...                 ...                 ...             ...   \n",
       "1587210             1.3               310.0             0.8   \n",
       "1587220             1.4               316.0             0.9   \n",
       "1587230             1.7               338.0             1.2   \n",
       "1587240             1.6               347.0             1.0   \n",
       "1587250             1.9               349.0             1.1   \n",
       "\n",
       "         rain_accumulation  rain_duration  relative_humidity  \n",
       "0                      NaN            NaN               60.5  \n",
       "10                     0.0            0.0               38.5  \n",
       "20                     0.0            0.0               58.3  \n",
       "30                     0.0            0.0               57.9  \n",
       "40                     0.0            0.0               57.4  \n",
       "...                    ...            ...                ...  \n",
       "1587210                0.0            0.0               47.8  \n",
       "1587220                0.0            0.0               48.0  \n",
       "1587230                0.0            0.0               48.0  \n",
       "1587240                0.0            0.0               46.3  \n",
       "1587250                0.0            0.0               46.1  \n",
       "\n",
       "[158726 rows x 13 columns]"
      ]
     },
     "execution_count": 6,
     "metadata": {},
     "output_type": "execute_result"
    }
   ],
   "source": [
    "data[(data['rowID'] % 10) == 0] ##==boolean expression to return T or F, a new dataframe that %10 =0 "
   ]
  },
  {
   "cell_type": "code",
   "execution_count": 7,
   "metadata": {},
   "outputs": [
    {
     "data": {
      "text/plain": [
       "(158726, 13)"
      ]
     },
     "execution_count": 7,
     "metadata": {},
     "output_type": "execute_result"
    }
   ],
   "source": [
    "sampled_df = data[(data['rowID'] % 10) == 0]\n",
    "sampled_df.shape"
   ]
  },
  {
   "cell_type": "markdown",
   "metadata": {},
   "source": [
    "<p style=\"font-family: Arial; font-size:1.75em;color:purple; font-style:bold\"><br>\n",
    "\n",
    "Statistics\n",
    "<br><br></p>\n"
   ]
  },
  {
   "cell_type": "code",
   "execution_count": 8,
   "metadata": {},
   "outputs": [
    {
     "data": {
      "text/html": [
       "<div>\n",
       "<style scoped>\n",
       "    .dataframe tbody tr th:only-of-type {\n",
       "        vertical-align: middle;\n",
       "    }\n",
       "\n",
       "    .dataframe tbody tr th {\n",
       "        vertical-align: top;\n",
       "    }\n",
       "\n",
       "    .dataframe thead th {\n",
       "        text-align: right;\n",
       "    }\n",
       "</style>\n",
       "<table border=\"1\" class=\"dataframe\">\n",
       "  <thead>\n",
       "    <tr style=\"text-align: right;\">\n",
       "      <th></th>\n",
       "      <th>count</th>\n",
       "      <th>mean</th>\n",
       "      <th>std</th>\n",
       "      <th>min</th>\n",
       "      <th>25%</th>\n",
       "      <th>50%</th>\n",
       "      <th>75%</th>\n",
       "      <th>max</th>\n",
       "    </tr>\n",
       "  </thead>\n",
       "  <tbody>\n",
       "    <tr>\n",
       "      <td>rowID</td>\n",
       "      <td>158726.0</td>\n",
       "      <td>793625.000000</td>\n",
       "      <td>458203.937509</td>\n",
       "      <td>0.00</td>\n",
       "      <td>396812.5</td>\n",
       "      <td>793625.00</td>\n",
       "      <td>1190437.50</td>\n",
       "      <td>1587250.00</td>\n",
       "    </tr>\n",
       "    <tr>\n",
       "      <td>air_pressure</td>\n",
       "      <td>158726.0</td>\n",
       "      <td>916.830161</td>\n",
       "      <td>3.051717</td>\n",
       "      <td>905.00</td>\n",
       "      <td>914.8</td>\n",
       "      <td>916.70</td>\n",
       "      <td>918.70</td>\n",
       "      <td>929.50</td>\n",
       "    </tr>\n",
       "    <tr>\n",
       "      <td>air_temp</td>\n",
       "      <td>158726.0</td>\n",
       "      <td>61.851589</td>\n",
       "      <td>11.833569</td>\n",
       "      <td>31.64</td>\n",
       "      <td>52.7</td>\n",
       "      <td>62.24</td>\n",
       "      <td>70.88</td>\n",
       "      <td>99.50</td>\n",
       "    </tr>\n",
       "    <tr>\n",
       "      <td>avg_wind_direction</td>\n",
       "      <td>158680.0</td>\n",
       "      <td>162.156100</td>\n",
       "      <td>95.278201</td>\n",
       "      <td>0.00</td>\n",
       "      <td>62.0</td>\n",
       "      <td>182.00</td>\n",
       "      <td>217.00</td>\n",
       "      <td>359.00</td>\n",
       "    </tr>\n",
       "    <tr>\n",
       "      <td>avg_wind_speed</td>\n",
       "      <td>158680.0</td>\n",
       "      <td>2.775215</td>\n",
       "      <td>2.057624</td>\n",
       "      <td>0.00</td>\n",
       "      <td>1.3</td>\n",
       "      <td>2.20</td>\n",
       "      <td>3.80</td>\n",
       "      <td>31.90</td>\n",
       "    </tr>\n",
       "    <tr>\n",
       "      <td>max_wind_direction</td>\n",
       "      <td>158680.0</td>\n",
       "      <td>163.462144</td>\n",
       "      <td>92.452139</td>\n",
       "      <td>0.00</td>\n",
       "      <td>68.0</td>\n",
       "      <td>187.00</td>\n",
       "      <td>223.00</td>\n",
       "      <td>359.00</td>\n",
       "    </tr>\n",
       "    <tr>\n",
       "      <td>max_wind_speed</td>\n",
       "      <td>158680.0</td>\n",
       "      <td>3.400558</td>\n",
       "      <td>2.418802</td>\n",
       "      <td>0.10</td>\n",
       "      <td>1.6</td>\n",
       "      <td>2.70</td>\n",
       "      <td>4.60</td>\n",
       "      <td>36.00</td>\n",
       "    </tr>\n",
       "    <tr>\n",
       "      <td>min_wind_direction</td>\n",
       "      <td>158680.0</td>\n",
       "      <td>166.774017</td>\n",
       "      <td>97.441109</td>\n",
       "      <td>0.00</td>\n",
       "      <td>76.0</td>\n",
       "      <td>180.00</td>\n",
       "      <td>212.00</td>\n",
       "      <td>359.00</td>\n",
       "    </tr>\n",
       "    <tr>\n",
       "      <td>min_wind_speed</td>\n",
       "      <td>158680.0</td>\n",
       "      <td>2.134664</td>\n",
       "      <td>1.742113</td>\n",
       "      <td>0.00</td>\n",
       "      <td>0.8</td>\n",
       "      <td>1.60</td>\n",
       "      <td>3.00</td>\n",
       "      <td>31.60</td>\n",
       "    </tr>\n",
       "    <tr>\n",
       "      <td>rain_accumulation</td>\n",
       "      <td>158725.0</td>\n",
       "      <td>0.000318</td>\n",
       "      <td>0.011236</td>\n",
       "      <td>0.00</td>\n",
       "      <td>0.0</td>\n",
       "      <td>0.00</td>\n",
       "      <td>0.00</td>\n",
       "      <td>3.12</td>\n",
       "    </tr>\n",
       "    <tr>\n",
       "      <td>rain_duration</td>\n",
       "      <td>158725.0</td>\n",
       "      <td>0.409627</td>\n",
       "      <td>8.665523</td>\n",
       "      <td>0.00</td>\n",
       "      <td>0.0</td>\n",
       "      <td>0.00</td>\n",
       "      <td>0.00</td>\n",
       "      <td>2960.00</td>\n",
       "    </tr>\n",
       "    <tr>\n",
       "      <td>relative_humidity</td>\n",
       "      <td>158726.0</td>\n",
       "      <td>47.609470</td>\n",
       "      <td>26.214409</td>\n",
       "      <td>0.90</td>\n",
       "      <td>24.7</td>\n",
       "      <td>44.70</td>\n",
       "      <td>68.00</td>\n",
       "      <td>93.00</td>\n",
       "    </tr>\n",
       "  </tbody>\n",
       "</table>\n",
       "</div>"
      ],
      "text/plain": [
       "                       count           mean            std     min       25%  \\\n",
       "rowID               158726.0  793625.000000  458203.937509    0.00  396812.5   \n",
       "air_pressure        158726.0     916.830161       3.051717  905.00     914.8   \n",
       "air_temp            158726.0      61.851589      11.833569   31.64      52.7   \n",
       "avg_wind_direction  158680.0     162.156100      95.278201    0.00      62.0   \n",
       "avg_wind_speed      158680.0       2.775215       2.057624    0.00       1.3   \n",
       "max_wind_direction  158680.0     163.462144      92.452139    0.00      68.0   \n",
       "max_wind_speed      158680.0       3.400558       2.418802    0.10       1.6   \n",
       "min_wind_direction  158680.0     166.774017      97.441109    0.00      76.0   \n",
       "min_wind_speed      158680.0       2.134664       1.742113    0.00       0.8   \n",
       "rain_accumulation   158725.0       0.000318       0.011236    0.00       0.0   \n",
       "rain_duration       158725.0       0.409627       8.665523    0.00       0.0   \n",
       "relative_humidity   158726.0      47.609470      26.214409    0.90      24.7   \n",
       "\n",
       "                          50%         75%         max  \n",
       "rowID               793625.00  1190437.50  1587250.00  \n",
       "air_pressure           916.70      918.70      929.50  \n",
       "air_temp                62.24       70.88       99.50  \n",
       "avg_wind_direction     182.00      217.00      359.00  \n",
       "avg_wind_speed           2.20        3.80       31.90  \n",
       "max_wind_direction     187.00      223.00      359.00  \n",
       "max_wind_speed           2.70        4.60       36.00  \n",
       "min_wind_direction     180.00      212.00      359.00  \n",
       "min_wind_speed           1.60        3.00       31.60  \n",
       "rain_accumulation        0.00        0.00        3.12  \n",
       "rain_duration            0.00        0.00     2960.00  \n",
       "relative_humidity       44.70       68.00       93.00  "
      ]
     },
     "execution_count": 8,
     "metadata": {},
     "output_type": "execute_result"
    }
   ],
   "source": [
    "sampled_df.describe().transpose()"
   ]
  },
  {
   "cell_type": "code",
   "execution_count": 9,
   "metadata": {},
   "outputs": [
    {
     "data": {
      "text/plain": [
       "(157812, 13)"
      ]
     },
     "execution_count": 9,
     "metadata": {},
     "output_type": "execute_result"
    }
   ],
   "source": [
    "sampled_df[sampled_df['rain_accumulation'] == 0].shape"
   ]
  },
  {
   "cell_type": "code",
   "execution_count": 10,
   "metadata": {},
   "outputs": [
    {
     "data": {
      "text/plain": [
       "(157237, 13)"
      ]
     },
     "execution_count": 10,
     "metadata": {},
     "output_type": "execute_result"
    }
   ],
   "source": [
    "sampled_df[sampled_df['rain_duration'] == 0].shape"
   ]
  },
  {
   "cell_type": "markdown",
   "metadata": {},
   "source": [
    "<p style=\"font-family: Arial; font-size:1.75em;color:purple; font-style:bold\"><br>\n",
    "\n",
    "Drop all the Rows with Empty rain_duration and rain_accumulation\n",
    "<br><br></p>\n"
   ]
  },
  {
   "cell_type": "code",
   "execution_count": 11,
   "metadata": {},
   "outputs": [],
   "source": [
    "del sampled_df['rain_accumulation']\n",
    "del sampled_df['rain_duration']"
   ]
  },
  {
   "cell_type": "code",
   "execution_count": 12,
   "metadata": {},
   "outputs": [],
   "source": [
    "rows_before = sampled_df.shape[0]\n",
    "sampled_df = sampled_df.dropna() #null\n",
    "rows_after = sampled_df.shape[0]"
   ]
  },
  {
   "cell_type": "markdown",
   "metadata": {},
   "source": [
    "<p style=\"font-family: Arial; font-size:1.75em;color:purple; font-style:bold\"><br>\n",
    "\n",
    "How many rows did we drop ?\n",
    "<br><br></p>\n"
   ]
  },
  {
   "cell_type": "code",
   "execution_count": 13,
   "metadata": {},
   "outputs": [
    {
     "data": {
      "text/plain": [
       "46"
      ]
     },
     "execution_count": 13,
     "metadata": {},
     "output_type": "execute_result"
    }
   ],
   "source": [
    "rows_before - rows_after"
   ]
  },
  {
   "cell_type": "code",
   "execution_count": 14,
   "metadata": {},
   "outputs": [
    {
     "data": {
      "text/plain": [
       "Index(['rowID', 'hpwren_timestamp', 'air_pressure', 'air_temp',\n",
       "       'avg_wind_direction', 'avg_wind_speed', 'max_wind_direction',\n",
       "       'max_wind_speed', 'min_wind_direction', 'min_wind_speed',\n",
       "       'relative_humidity'],\n",
       "      dtype='object')"
      ]
     },
     "execution_count": 14,
     "metadata": {},
     "output_type": "execute_result"
    }
   ],
   "source": [
    "sampled_df.columns"
   ]
  },
  {
   "cell_type": "markdown",
   "metadata": {},
   "source": [
    "<p style=\"font-family: Arial; font-size:1.75em;color:purple; font-style:bold\"><br>\n",
    "\n",
    "Select Features of Interest for Clustering\n",
    "<br><br></p>\n"
   ]
  },
  {
   "cell_type": "code",
   "execution_count": 15,
   "metadata": {},
   "outputs": [],
   "source": [
    "features = ['air_pressure', 'air_temp', 'avg_wind_direction', 'avg_wind_speed', 'max_wind_direction', \n",
    "        'max_wind_speed','relative_humidity'] #list"
   ]
  },
  {
   "cell_type": "code",
   "execution_count": 16,
   "metadata": {},
   "outputs": [
    {
     "data": {
      "text/plain": [
       "pandas.core.frame.DataFrame"
      ]
     },
     "execution_count": 16,
     "metadata": {},
     "output_type": "execute_result"
    }
   ],
   "source": [
    "select_df = sampled_df[features]\n",
    "type(select_df)"
   ]
  },
  {
   "cell_type": "code",
   "execution_count": 17,
   "metadata": {},
   "outputs": [
    {
     "data": {
      "text/plain": [
       "Index(['air_pressure', 'air_temp', 'avg_wind_direction', 'avg_wind_speed',\n",
       "       'max_wind_direction', 'max_wind_speed', 'relative_humidity'],\n",
       "      dtype='object')"
      ]
     },
     "execution_count": 17,
     "metadata": {},
     "output_type": "execute_result"
    }
   ],
   "source": [
    "select_df.columns"
   ]
  },
  {
   "cell_type": "code",
   "execution_count": 18,
   "metadata": {},
   "outputs": [
    {
     "data": {
      "text/html": [
       "<div>\n",
       "<style scoped>\n",
       "    .dataframe tbody tr th:only-of-type {\n",
       "        vertical-align: middle;\n",
       "    }\n",
       "\n",
       "    .dataframe tbody tr th {\n",
       "        vertical-align: top;\n",
       "    }\n",
       "\n",
       "    .dataframe thead th {\n",
       "        text-align: right;\n",
       "    }\n",
       "</style>\n",
       "<table border=\"1\" class=\"dataframe\">\n",
       "  <thead>\n",
       "    <tr style=\"text-align: right;\">\n",
       "      <th></th>\n",
       "      <th>air_pressure</th>\n",
       "      <th>air_temp</th>\n",
       "      <th>avg_wind_direction</th>\n",
       "      <th>avg_wind_speed</th>\n",
       "      <th>max_wind_direction</th>\n",
       "      <th>max_wind_speed</th>\n",
       "      <th>relative_humidity</th>\n",
       "    </tr>\n",
       "  </thead>\n",
       "  <tbody>\n",
       "    <tr>\n",
       "      <td>0</td>\n",
       "      <td>912.3</td>\n",
       "      <td>64.76</td>\n",
       "      <td>97.0</td>\n",
       "      <td>1.2</td>\n",
       "      <td>106.0</td>\n",
       "      <td>1.6</td>\n",
       "      <td>60.5</td>\n",
       "    </tr>\n",
       "    <tr>\n",
       "      <td>10</td>\n",
       "      <td>912.3</td>\n",
       "      <td>62.24</td>\n",
       "      <td>144.0</td>\n",
       "      <td>1.2</td>\n",
       "      <td>167.0</td>\n",
       "      <td>1.8</td>\n",
       "      <td>38.5</td>\n",
       "    </tr>\n",
       "    <tr>\n",
       "      <td>20</td>\n",
       "      <td>912.2</td>\n",
       "      <td>63.32</td>\n",
       "      <td>100.0</td>\n",
       "      <td>2.0</td>\n",
       "      <td>122.0</td>\n",
       "      <td>2.5</td>\n",
       "      <td>58.3</td>\n",
       "    </tr>\n",
       "    <tr>\n",
       "      <td>30</td>\n",
       "      <td>912.2</td>\n",
       "      <td>62.60</td>\n",
       "      <td>91.0</td>\n",
       "      <td>2.0</td>\n",
       "      <td>103.0</td>\n",
       "      <td>2.4</td>\n",
       "      <td>57.9</td>\n",
       "    </tr>\n",
       "    <tr>\n",
       "      <td>40</td>\n",
       "      <td>912.2</td>\n",
       "      <td>64.04</td>\n",
       "      <td>81.0</td>\n",
       "      <td>2.6</td>\n",
       "      <td>88.0</td>\n",
       "      <td>2.9</td>\n",
       "      <td>57.4</td>\n",
       "    </tr>\n",
       "    <tr>\n",
       "      <td>...</td>\n",
       "      <td>...</td>\n",
       "      <td>...</td>\n",
       "      <td>...</td>\n",
       "      <td>...</td>\n",
       "      <td>...</td>\n",
       "      <td>...</td>\n",
       "      <td>...</td>\n",
       "    </tr>\n",
       "    <tr>\n",
       "      <td>1587210</td>\n",
       "      <td>915.9</td>\n",
       "      <td>75.56</td>\n",
       "      <td>330.0</td>\n",
       "      <td>1.0</td>\n",
       "      <td>341.0</td>\n",
       "      <td>1.3</td>\n",
       "      <td>47.8</td>\n",
       "    </tr>\n",
       "    <tr>\n",
       "      <td>1587220</td>\n",
       "      <td>915.9</td>\n",
       "      <td>75.56</td>\n",
       "      <td>330.0</td>\n",
       "      <td>1.1</td>\n",
       "      <td>341.0</td>\n",
       "      <td>1.4</td>\n",
       "      <td>48.0</td>\n",
       "    </tr>\n",
       "    <tr>\n",
       "      <td>1587230</td>\n",
       "      <td>915.9</td>\n",
       "      <td>75.56</td>\n",
       "      <td>344.0</td>\n",
       "      <td>1.4</td>\n",
       "      <td>352.0</td>\n",
       "      <td>1.7</td>\n",
       "      <td>48.0</td>\n",
       "    </tr>\n",
       "    <tr>\n",
       "      <td>1587240</td>\n",
       "      <td>915.9</td>\n",
       "      <td>75.20</td>\n",
       "      <td>359.0</td>\n",
       "      <td>1.3</td>\n",
       "      <td>9.0</td>\n",
       "      <td>1.6</td>\n",
       "      <td>46.3</td>\n",
       "    </tr>\n",
       "    <tr>\n",
       "      <td>1587250</td>\n",
       "      <td>915.9</td>\n",
       "      <td>74.84</td>\n",
       "      <td>6.0</td>\n",
       "      <td>1.5</td>\n",
       "      <td>20.0</td>\n",
       "      <td>1.9</td>\n",
       "      <td>46.1</td>\n",
       "    </tr>\n",
       "  </tbody>\n",
       "</table>\n",
       "<p>158680 rows × 7 columns</p>\n",
       "</div>"
      ],
      "text/plain": [
       "         air_pressure  air_temp  avg_wind_direction  avg_wind_speed  \\\n",
       "0               912.3     64.76                97.0             1.2   \n",
       "10              912.3     62.24               144.0             1.2   \n",
       "20              912.2     63.32               100.0             2.0   \n",
       "30              912.2     62.60                91.0             2.0   \n",
       "40              912.2     64.04                81.0             2.6   \n",
       "...               ...       ...                 ...             ...   \n",
       "1587210         915.9     75.56               330.0             1.0   \n",
       "1587220         915.9     75.56               330.0             1.1   \n",
       "1587230         915.9     75.56               344.0             1.4   \n",
       "1587240         915.9     75.20               359.0             1.3   \n",
       "1587250         915.9     74.84                 6.0             1.5   \n",
       "\n",
       "         max_wind_direction  max_wind_speed  relative_humidity  \n",
       "0                     106.0             1.6               60.5  \n",
       "10                    167.0             1.8               38.5  \n",
       "20                    122.0             2.5               58.3  \n",
       "30                    103.0             2.4               57.9  \n",
       "40                     88.0             2.9               57.4  \n",
       "...                     ...             ...                ...  \n",
       "1587210               341.0             1.3               47.8  \n",
       "1587220               341.0             1.4               48.0  \n",
       "1587230               352.0             1.7               48.0  \n",
       "1587240                 9.0             1.6               46.3  \n",
       "1587250                20.0             1.9               46.1  \n",
       "\n",
       "[158680 rows x 7 columns]"
      ]
     },
     "execution_count": 18,
     "metadata": {},
     "output_type": "execute_result"
    }
   ],
   "source": [
    "select_df"
   ]
  },
  {
   "cell_type": "markdown",
   "metadata": {},
   "source": [
    "<p style=\"font-family: Arial; font-size:1.75em;color:purple; font-style:bold\"><br>\n",
    "\n",
    "Scale the Features using StandardScaler\n",
    "<br><br></p>\n"
   ]
  },
  {
   "cell_type": "code",
   "execution_count": 19,
   "metadata": {},
   "outputs": [
    {
     "data": {
      "text/plain": [
       "array([[-1.48456281,  0.24544455, -0.68385323, ..., -0.62153592,\n",
       "        -0.74440309,  0.49233835],\n",
       "       [-1.48456281,  0.03247142, -0.19055941, ...,  0.03826701,\n",
       "        -0.66171726, -0.34710804],\n",
       "       [-1.51733167,  0.12374562, -0.65236639, ..., -0.44847286,\n",
       "        -0.37231683,  0.40839371],\n",
       "       ...,\n",
       "       [-0.30488381,  1.15818654,  1.90856325, ...,  2.0393087 ,\n",
       "        -0.70306017,  0.01538018],\n",
       "       [-0.30488381,  1.12776181,  2.06599745, ..., -1.67073075,\n",
       "        -0.74440309, -0.04948614],\n",
       "       [-0.30488381,  1.09733708, -1.63895404, ..., -1.55174989,\n",
       "        -0.62037434, -0.05711747]])"
      ]
     },
     "execution_count": 19,
     "metadata": {},
     "output_type": "execute_result"
    },
    {
     "data": {
      "image/png": "[encoded data removed]",
      "text/plain": [
       "<Figure size 432x288 with 1 Axes>"
      ]
     },
     "metadata": {
      "needs_background": "light"
     },
     "output_type": "display_data"
    }
   ],
   "source": [
    "X = StandardScaler().fit_transform(select_df)\n",
    "plt.scatter(X[ : , 0], X[ : , 1], s =50, c='b')\n",
    "X"
   ]
  },
  {
   "cell_type": "markdown",
   "metadata": {},
   "source": [
    "<p style=\"font-family: Arial; font-size:1.75em;color:purple; font-style:bold\"><br>\n",
    "\n",
    "Use k-Means Clustering\n",
    "<br><br></p>\n"
   ]
  },
  {
   "cell_type": "code",
   "execution_count": 20,
   "metadata": {},
   "outputs": [
    {
     "name": "stdout",
     "output_type": "stream",
     "text": [
      "model\n",
      " KMeans(algorithm='auto', copy_x=True, init='k-means++', max_iter=300,\n",
      "       n_clusters=12, n_init=10, n_jobs=None, precompute_distances='auto',\n",
      "       random_state=None, tol=0.0001, verbose=0)\n"
     ]
    }
   ],
   "source": [
    "kmeans = KMeans(n_clusters=12)\n",
    "model = kmeans.fit(X)\n",
    "print(\"model\\n\", model)"
   ]
  },
  {
   "cell_type": "markdown",
   "metadata": {},
   "source": [
    "<p style=\"font-family: Arial; font-size:1.75em;color:purple; font-style:bold\"><br>\n",
    "\n",
    "What are the centers of 12 clusters we formed ?\n",
    "<br><br></p>\n"
   ]
  },
  {
   "cell_type": "code",
   "execution_count": 21,
   "metadata": {},
   "outputs": [
    {
     "data": {
      "text/plain": [
       "array([[-0.21154635,  0.63233177,  0.40852437,  0.73468018,  0.51667453,\n",
       "         0.67272561, -0.15042844],\n",
       "       [-0.16413057,  0.86393961, -1.31098928, -0.58990286, -1.16667639,\n",
       "        -0.60521498, -0.64085735],\n",
       "       [-0.69710178,  0.54157644,  0.17700074, -0.58395697,  0.34638365,\n",
       "        -0.59739296, -0.11263805],\n",
       "       [ 1.19047193, -0.25512177, -1.15494803,  2.12376577, -1.05347892,\n",
       "         2.24052453, -1.13461619],\n",
       "       [ 0.13098981,  0.84346769,  1.4110603 , -0.63846675,  1.67514092,\n",
       "        -0.58924372, -0.71411622],\n",
       "       [ 0.06083597, -0.78883033, -1.19668547, -0.57095587, -1.04268893,\n",
       "        -0.58549224,  0.87831943],\n",
       "       [ 0.72879154,  0.4374481 ,  0.28564915, -0.53495067,  0.47336667,\n",
       "        -0.54118086, -0.77176864],\n",
       "       [ 0.23406221,  0.3193414 ,  1.88793197, -0.65189853, -1.55173355,\n",
       "        -0.57674535, -0.28274153],\n",
       "       [ 0.25008458, -0.99466811,  0.65938644, -0.54702807,  0.85039617,\n",
       "        -0.5297794 ,  1.15914622],\n",
       "       [-1.1809853 , -0.87465066,  0.44687987,  1.97876488,  0.53884177,\n",
       "         1.94021618,  0.91259871],\n",
       "       [-0.8391899 , -1.19974051,  0.37523691,  0.35969303,  0.47356123,\n",
       "         0.34759723,  1.36256957],\n",
       "       [ 1.36624266, -0.08071329, -1.20732868, -0.05012025, -1.07611702,\n",
       "        -0.02981443, -0.9777546 ]])"
      ]
     },
     "execution_count": 21,
     "metadata": {},
     "output_type": "execute_result"
    }
   ],
   "source": [
    "centers = model.cluster_centers_\n",
    "centers #each 12 cluster will have seven values"
   ]
  },
  {
   "cell_type": "markdown",
   "metadata": {},
   "source": [
    "<p style=\"font-family: Arial; font-size:2.75em;color:purple; font-style:bold\"><br>\n",
    "\n",
    "Plots\n",
    "<br><br></p>\n"
   ]
  },
  {
   "cell_type": "markdown",
   "metadata": {},
   "source": [
    "Let us first create some utility functions which will help us in plotting graphs:"
   ]
  },
  {
   "cell_type": "code",
   "execution_count": 22,
   "metadata": {},
   "outputs": [],
   "source": [
    "# Function that creates a DataFrame with a column for Cluster Number\n",
    "\n",
    "def pd_centers(featuresUsed, centers):\n",
    "\tcolNames = list(featuresUsed)\n",
    "\tcolNames.append('prediction') #number of cluster\n",
    "\n",
    "\t# Zip with a column called 'prediction' (index)\n",
    "\tZ = [np.append(A, index) for index, A in enumerate(centers)]\n",
    "\n",
    "\t# Convert to pandas data frame for plotting\n",
    "\tP = pd.DataFrame(Z, columns=colNames)\n",
    "\tP['prediction'] = P['prediction'].astype(int)\n",
    "\treturn P"
   ]
  },
  {
   "cell_type": "code",
   "execution_count": 23,
   "metadata": {},
   "outputs": [],
   "source": [
    "# Function that creates Parallel Plots\n",
    "\n",
    "def parallel_plot(data):\n",
    "\tmy_colors = list(islice(cycle(['b', 'r', 'g', 'y', 'k']), None, len(data)))\n",
    "\tplt.figure(figsize=(15,8)).gca().axes.set_ylim([-3,+3])\n",
    "\tparallel_coordinates(data, 'prediction', color = my_colors, marker='o')"
   ]
  },
  {
   "cell_type": "code",
   "execution_count": 24,
   "metadata": {},
   "outputs": [
    {
     "data": {
      "text/html": [
       "<div>\n",
       "<style scoped>\n",
       "    .dataframe tbody tr th:only-of-type {\n",
       "        vertical-align: middle;\n",
       "    }\n",
       "\n",
       "    .dataframe tbody tr th {\n",
       "        vertical-align: top;\n",
       "    }\n",
       "\n",
       "    .dataframe thead th {\n",
       "        text-align: right;\n",
       "    }\n",
       "</style>\n",
       "<table border=\"1\" class=\"dataframe\">\n",
       "  <thead>\n",
       "    <tr style=\"text-align: right;\">\n",
       "      <th></th>\n",
       "      <th>air_pressure</th>\n",
       "      <th>air_temp</th>\n",
       "      <th>avg_wind_direction</th>\n",
       "      <th>avg_wind_speed</th>\n",
       "      <th>max_wind_direction</th>\n",
       "      <th>max_wind_speed</th>\n",
       "      <th>relative_humidity</th>\n",
       "      <th>prediction</th>\n",
       "    </tr>\n",
       "  </thead>\n",
       "  <tbody>\n",
       "    <tr>\n",
       "      <td>0</td>\n",
       "      <td>-0.211546</td>\n",
       "      <td>0.632332</td>\n",
       "      <td>0.408524</td>\n",
       "      <td>0.734680</td>\n",
       "      <td>0.516675</td>\n",
       "      <td>0.672726</td>\n",
       "      <td>-0.150428</td>\n",
       "      <td>0</td>\n",
       "    </tr>\n",
       "    <tr>\n",
       "      <td>1</td>\n",
       "      <td>-0.164131</td>\n",
       "      <td>0.863940</td>\n",
       "      <td>-1.310989</td>\n",
       "      <td>-0.589903</td>\n",
       "      <td>-1.166676</td>\n",
       "      <td>-0.605215</td>\n",
       "      <td>-0.640857</td>\n",
       "      <td>1</td>\n",
       "    </tr>\n",
       "    <tr>\n",
       "      <td>2</td>\n",
       "      <td>-0.697102</td>\n",
       "      <td>0.541576</td>\n",
       "      <td>0.177001</td>\n",
       "      <td>-0.583957</td>\n",
       "      <td>0.346384</td>\n",
       "      <td>-0.597393</td>\n",
       "      <td>-0.112638</td>\n",
       "      <td>2</td>\n",
       "    </tr>\n",
       "    <tr>\n",
       "      <td>3</td>\n",
       "      <td>1.190472</td>\n",
       "      <td>-0.255122</td>\n",
       "      <td>-1.154948</td>\n",
       "      <td>2.123766</td>\n",
       "      <td>-1.053479</td>\n",
       "      <td>2.240525</td>\n",
       "      <td>-1.134616</td>\n",
       "      <td>3</td>\n",
       "    </tr>\n",
       "    <tr>\n",
       "      <td>4</td>\n",
       "      <td>0.130990</td>\n",
       "      <td>0.843468</td>\n",
       "      <td>1.411060</td>\n",
       "      <td>-0.638467</td>\n",
       "      <td>1.675141</td>\n",
       "      <td>-0.589244</td>\n",
       "      <td>-0.714116</td>\n",
       "      <td>4</td>\n",
       "    </tr>\n",
       "    <tr>\n",
       "      <td>5</td>\n",
       "      <td>0.060836</td>\n",
       "      <td>-0.788830</td>\n",
       "      <td>-1.196685</td>\n",
       "      <td>-0.570956</td>\n",
       "      <td>-1.042689</td>\n",
       "      <td>-0.585492</td>\n",
       "      <td>0.878319</td>\n",
       "      <td>5</td>\n",
       "    </tr>\n",
       "    <tr>\n",
       "      <td>6</td>\n",
       "      <td>0.728792</td>\n",
       "      <td>0.437448</td>\n",
       "      <td>0.285649</td>\n",
       "      <td>-0.534951</td>\n",
       "      <td>0.473367</td>\n",
       "      <td>-0.541181</td>\n",
       "      <td>-0.771769</td>\n",
       "      <td>6</td>\n",
       "    </tr>\n",
       "    <tr>\n",
       "      <td>7</td>\n",
       "      <td>0.234062</td>\n",
       "      <td>0.319341</td>\n",
       "      <td>1.887932</td>\n",
       "      <td>-0.651899</td>\n",
       "      <td>-1.551734</td>\n",
       "      <td>-0.576745</td>\n",
       "      <td>-0.282742</td>\n",
       "      <td>7</td>\n",
       "    </tr>\n",
       "    <tr>\n",
       "      <td>8</td>\n",
       "      <td>0.250085</td>\n",
       "      <td>-0.994668</td>\n",
       "      <td>0.659386</td>\n",
       "      <td>-0.547028</td>\n",
       "      <td>0.850396</td>\n",
       "      <td>-0.529779</td>\n",
       "      <td>1.159146</td>\n",
       "      <td>8</td>\n",
       "    </tr>\n",
       "    <tr>\n",
       "      <td>9</td>\n",
       "      <td>-1.180985</td>\n",
       "      <td>-0.874651</td>\n",
       "      <td>0.446880</td>\n",
       "      <td>1.978765</td>\n",
       "      <td>0.538842</td>\n",
       "      <td>1.940216</td>\n",
       "      <td>0.912599</td>\n",
       "      <td>9</td>\n",
       "    </tr>\n",
       "    <tr>\n",
       "      <td>10</td>\n",
       "      <td>-0.839190</td>\n",
       "      <td>-1.199741</td>\n",
       "      <td>0.375237</td>\n",
       "      <td>0.359693</td>\n",
       "      <td>0.473561</td>\n",
       "      <td>0.347597</td>\n",
       "      <td>1.362570</td>\n",
       "      <td>10</td>\n",
       "    </tr>\n",
       "    <tr>\n",
       "      <td>11</td>\n",
       "      <td>1.366243</td>\n",
       "      <td>-0.080713</td>\n",
       "      <td>-1.207329</td>\n",
       "      <td>-0.050120</td>\n",
       "      <td>-1.076117</td>\n",
       "      <td>-0.029814</td>\n",
       "      <td>-0.977755</td>\n",
       "      <td>11</td>\n",
       "    </tr>\n",
       "  </tbody>\n",
       "</table>\n",
       "</div>"
      ],
      "text/plain": [
       "    air_pressure  air_temp  avg_wind_direction  avg_wind_speed  \\\n",
       "0      -0.211546  0.632332            0.408524        0.734680   \n",
       "1      -0.164131  0.863940           -1.310989       -0.589903   \n",
       "2      -0.697102  0.541576            0.177001       -0.583957   \n",
       "3       1.190472 -0.255122           -1.154948        2.123766   \n",
       "4       0.130990  0.843468            1.411060       -0.638467   \n",
       "5       0.060836 -0.788830           -1.196685       -0.570956   \n",
       "6       0.728792  0.437448            0.285649       -0.534951   \n",
       "7       0.234062  0.319341            1.887932       -0.651899   \n",
       "8       0.250085 -0.994668            0.659386       -0.547028   \n",
       "9      -1.180985 -0.874651            0.446880        1.978765   \n",
       "10     -0.839190 -1.199741            0.375237        0.359693   \n",
       "11      1.366243 -0.080713           -1.207329       -0.050120   \n",
       "\n",
       "    max_wind_direction  max_wind_speed  relative_humidity  prediction  \n",
       "0             0.516675        0.672726          -0.150428           0  \n",
       "1            -1.166676       -0.605215          -0.640857           1  \n",
       "2             0.346384       -0.597393          -0.112638           2  \n",
       "3            -1.053479        2.240525          -1.134616           3  \n",
       "4             1.675141       -0.589244          -0.714116           4  \n",
       "5            -1.042689       -0.585492           0.878319           5  \n",
       "6             0.473367       -0.541181          -0.771769           6  \n",
       "7            -1.551734       -0.576745          -0.282742           7  \n",
       "8             0.850396       -0.529779           1.159146           8  \n",
       "9             0.538842        1.940216           0.912599           9  \n",
       "10            0.473561        0.347597           1.362570          10  \n",
       "11           -1.076117       -0.029814          -0.977755          11  "
      ]
     },
     "execution_count": 24,
     "metadata": {},
     "output_type": "execute_result"
    }
   ],
   "source": [
    "P = pd_centers(features, centers)\n",
    "P"
   ]
  },
  {
   "cell_type": "code",
   "execution_count": 29,
   "metadata": {},
   "outputs": [
    {
     "data": {
      "text/html": [
       "<div>\n",
       "<style scoped>\n",
       "    .dataframe tbody tr th:only-of-type {\n",
       "        vertical-align: middle;\n",
       "    }\n",
       "\n",
       "    .dataframe tbody tr th {\n",
       "        vertical-align: top;\n",
       "    }\n",
       "\n",
       "    .dataframe thead th {\n",
       "        text-align: right;\n",
       "    }\n",
       "</style>\n",
       "<table border=\"1\" class=\"dataframe\">\n",
       "  <thead>\n",
       "    <tr style=\"text-align: right;\">\n",
       "      <th></th>\n",
       "      <th>air_pressure</th>\n",
       "      <th>air_temp</th>\n",
       "      <th>avg_wind_direction</th>\n",
       "      <th>avg_wind_speed</th>\n",
       "      <th>max_wind_direction</th>\n",
       "      <th>max_wind_speed</th>\n",
       "      <th>relative_humidity</th>\n",
       "      <th>prediction</th>\n",
       "    </tr>\n",
       "  </thead>\n",
       "  <tbody>\n",
       "    <tr>\n",
       "      <td>1</td>\n",
       "      <td>-0.164131</td>\n",
       "      <td>0.863940</td>\n",
       "      <td>-1.310989</td>\n",
       "      <td>-0.589903</td>\n",
       "      <td>-1.166676</td>\n",
       "      <td>-0.605215</td>\n",
       "      <td>-0.640857</td>\n",
       "      <td>1</td>\n",
       "    </tr>\n",
       "    <tr>\n",
       "      <td>3</td>\n",
       "      <td>1.190472</td>\n",
       "      <td>-0.255122</td>\n",
       "      <td>-1.154948</td>\n",
       "      <td>2.123766</td>\n",
       "      <td>-1.053479</td>\n",
       "      <td>2.240525</td>\n",
       "      <td>-1.134616</td>\n",
       "      <td>3</td>\n",
       "    </tr>\n",
       "    <tr>\n",
       "      <td>4</td>\n",
       "      <td>0.130990</td>\n",
       "      <td>0.843468</td>\n",
       "      <td>1.411060</td>\n",
       "      <td>-0.638467</td>\n",
       "      <td>1.675141</td>\n",
       "      <td>-0.589244</td>\n",
       "      <td>-0.714116</td>\n",
       "      <td>4</td>\n",
       "    </tr>\n",
       "    <tr>\n",
       "      <td>6</td>\n",
       "      <td>0.728792</td>\n",
       "      <td>0.437448</td>\n",
       "      <td>0.285649</td>\n",
       "      <td>-0.534951</td>\n",
       "      <td>0.473367</td>\n",
       "      <td>-0.541181</td>\n",
       "      <td>-0.771769</td>\n",
       "      <td>6</td>\n",
       "    </tr>\n",
       "    <tr>\n",
       "      <td>11</td>\n",
       "      <td>1.366243</td>\n",
       "      <td>-0.080713</td>\n",
       "      <td>-1.207329</td>\n",
       "      <td>-0.050120</td>\n",
       "      <td>-1.076117</td>\n",
       "      <td>-0.029814</td>\n",
       "      <td>-0.977755</td>\n",
       "      <td>11</td>\n",
       "    </tr>\n",
       "  </tbody>\n",
       "</table>\n",
       "</div>"
      ],
      "text/plain": [
       "    air_pressure  air_temp  avg_wind_direction  avg_wind_speed  \\\n",
       "1      -0.164131  0.863940           -1.310989       -0.589903   \n",
       "3       1.190472 -0.255122           -1.154948        2.123766   \n",
       "4       0.130990  0.843468            1.411060       -0.638467   \n",
       "6       0.728792  0.437448            0.285649       -0.534951   \n",
       "11      1.366243 -0.080713           -1.207329       -0.050120   \n",
       "\n",
       "    max_wind_direction  max_wind_speed  relative_humidity  prediction  \n",
       "1            -1.166676       -0.605215          -0.640857           1  \n",
       "3            -1.053479        2.240525          -1.134616           3  \n",
       "4             1.675141       -0.589244          -0.714116           4  \n",
       "6             0.473367       -0.541181          -0.771769           6  \n",
       "11           -1.076117       -0.029814          -0.977755          11  "
      ]
     },
     "execution_count": 29,
     "metadata": {},
     "output_type": "execute_result"
    }
   ],
   "source": [
    "P[P['relative_humidity'] < -0.5]"
   ]
  },
  {
   "cell_type": "markdown",
   "metadata": {},
   "source": [
    "# Dry Days"
   ]
  },
  {
   "cell_type": "code",
   "execution_count": 25,
   "metadata": {},
   "outputs": [
    {
     "data": {
      "image/png": "[encoded data removed]",
      "text/plain": [
       "<Figure size 1080x576 with 1 Axes>"
      ]
     },
     "metadata": {
      "needs_background": "light"
     },
     "output_type": "display_data"
    }
   ],
   "source": [
    "parallel_plot(P[P['relative_humidity'] < -0.5])"
   ]
  },
  {
   "cell_type": "markdown",
   "metadata": {},
   "source": [
    "# Warm Days"
   ]
  },
  {
   "cell_type": "code",
   "execution_count": 30,
   "metadata": {},
   "outputs": [
    {
     "data": {
      "text/html": [
       "<div>\n",
       "<style scoped>\n",
       "    .dataframe tbody tr th:only-of-type {\n",
       "        vertical-align: middle;\n",
       "    }\n",
       "\n",
       "    .dataframe tbody tr th {\n",
       "        vertical-align: top;\n",
       "    }\n",
       "\n",
       "    .dataframe thead th {\n",
       "        text-align: right;\n",
       "    }\n",
       "</style>\n",
       "<table border=\"1\" class=\"dataframe\">\n",
       "  <thead>\n",
       "    <tr style=\"text-align: right;\">\n",
       "      <th></th>\n",
       "      <th>air_pressure</th>\n",
       "      <th>air_temp</th>\n",
       "      <th>avg_wind_direction</th>\n",
       "      <th>avg_wind_speed</th>\n",
       "      <th>max_wind_direction</th>\n",
       "      <th>max_wind_speed</th>\n",
       "      <th>relative_humidity</th>\n",
       "      <th>prediction</th>\n",
       "    </tr>\n",
       "  </thead>\n",
       "  <tbody>\n",
       "    <tr>\n",
       "      <td>0</td>\n",
       "      <td>-0.211546</td>\n",
       "      <td>0.632332</td>\n",
       "      <td>0.408524</td>\n",
       "      <td>0.734680</td>\n",
       "      <td>0.516675</td>\n",
       "      <td>0.672726</td>\n",
       "      <td>-0.150428</td>\n",
       "      <td>0</td>\n",
       "    </tr>\n",
       "    <tr>\n",
       "      <td>1</td>\n",
       "      <td>-0.164131</td>\n",
       "      <td>0.863940</td>\n",
       "      <td>-1.310989</td>\n",
       "      <td>-0.589903</td>\n",
       "      <td>-1.166676</td>\n",
       "      <td>-0.605215</td>\n",
       "      <td>-0.640857</td>\n",
       "      <td>1</td>\n",
       "    </tr>\n",
       "    <tr>\n",
       "      <td>2</td>\n",
       "      <td>-0.697102</td>\n",
       "      <td>0.541576</td>\n",
       "      <td>0.177001</td>\n",
       "      <td>-0.583957</td>\n",
       "      <td>0.346384</td>\n",
       "      <td>-0.597393</td>\n",
       "      <td>-0.112638</td>\n",
       "      <td>2</td>\n",
       "    </tr>\n",
       "    <tr>\n",
       "      <td>4</td>\n",
       "      <td>0.130990</td>\n",
       "      <td>0.843468</td>\n",
       "      <td>1.411060</td>\n",
       "      <td>-0.638467</td>\n",
       "      <td>1.675141</td>\n",
       "      <td>-0.589244</td>\n",
       "      <td>-0.714116</td>\n",
       "      <td>4</td>\n",
       "    </tr>\n",
       "  </tbody>\n",
       "</table>\n",
       "</div>"
      ],
      "text/plain": [
       "   air_pressure  air_temp  avg_wind_direction  avg_wind_speed  \\\n",
       "0     -0.211546  0.632332            0.408524        0.734680   \n",
       "1     -0.164131  0.863940           -1.310989       -0.589903   \n",
       "2     -0.697102  0.541576            0.177001       -0.583957   \n",
       "4      0.130990  0.843468            1.411060       -0.638467   \n",
       "\n",
       "   max_wind_direction  max_wind_speed  relative_humidity  prediction  \n",
       "0            0.516675        0.672726          -0.150428           0  \n",
       "1           -1.166676       -0.605215          -0.640857           1  \n",
       "2            0.346384       -0.597393          -0.112638           2  \n",
       "4            1.675141       -0.589244          -0.714116           4  "
      ]
     },
     "execution_count": 30,
     "metadata": {},
     "output_type": "execute_result"
    }
   ],
   "source": [
    "P[P['air_temp'] > 0.5]"
   ]
  },
  {
   "cell_type": "code",
   "execution_count": 26,
   "metadata": {},
   "outputs": [
    {
     "data": {
      "image/png": "[encoded data removed]",
      "text/plain": [
       "<Figure size 1080x576 with 1 Axes>"
      ]
     },
     "metadata": {
      "needs_background": "light"
     },
     "output_type": "display_data"
    }
   ],
   "source": [
    "parallel_plot(P[P['air_temp'] > 0.5])"
   ]
  },
  {
   "cell_type": "markdown",
   "metadata": {},
   "source": [
    "# Cool Days"
   ]
  },
  {
   "cell_type": "code",
   "execution_count": 31,
   "metadata": {},
   "outputs": [
    {
     "data": {
      "text/html": [
       "<div>\n",
       "<style scoped>\n",
       "    .dataframe tbody tr th:only-of-type {\n",
       "        vertical-align: middle;\n",
       "    }\n",
       "\n",
       "    .dataframe tbody tr th {\n",
       "        vertical-align: top;\n",
       "    }\n",
       "\n",
       "    .dataframe thead th {\n",
       "        text-align: right;\n",
       "    }\n",
       "</style>\n",
       "<table border=\"1\" class=\"dataframe\">\n",
       "  <thead>\n",
       "    <tr style=\"text-align: right;\">\n",
       "      <th></th>\n",
       "      <th>air_pressure</th>\n",
       "      <th>air_temp</th>\n",
       "      <th>avg_wind_direction</th>\n",
       "      <th>avg_wind_speed</th>\n",
       "      <th>max_wind_direction</th>\n",
       "      <th>max_wind_speed</th>\n",
       "      <th>relative_humidity</th>\n",
       "      <th>prediction</th>\n",
       "    </tr>\n",
       "  </thead>\n",
       "  <tbody>\n",
       "    <tr>\n",
       "      <td>5</td>\n",
       "      <td>0.060836</td>\n",
       "      <td>-0.788830</td>\n",
       "      <td>-1.196685</td>\n",
       "      <td>-0.570956</td>\n",
       "      <td>-1.042689</td>\n",
       "      <td>-0.585492</td>\n",
       "      <td>0.878319</td>\n",
       "      <td>5</td>\n",
       "    </tr>\n",
       "    <tr>\n",
       "      <td>8</td>\n",
       "      <td>0.250085</td>\n",
       "      <td>-0.994668</td>\n",
       "      <td>0.659386</td>\n",
       "      <td>-0.547028</td>\n",
       "      <td>0.850396</td>\n",
       "      <td>-0.529779</td>\n",
       "      <td>1.159146</td>\n",
       "      <td>8</td>\n",
       "    </tr>\n",
       "    <tr>\n",
       "      <td>9</td>\n",
       "      <td>-1.180985</td>\n",
       "      <td>-0.874651</td>\n",
       "      <td>0.446880</td>\n",
       "      <td>1.978765</td>\n",
       "      <td>0.538842</td>\n",
       "      <td>1.940216</td>\n",
       "      <td>0.912599</td>\n",
       "      <td>9</td>\n",
       "    </tr>\n",
       "    <tr>\n",
       "      <td>10</td>\n",
       "      <td>-0.839190</td>\n",
       "      <td>-1.199741</td>\n",
       "      <td>0.375237</td>\n",
       "      <td>0.359693</td>\n",
       "      <td>0.473561</td>\n",
       "      <td>0.347597</td>\n",
       "      <td>1.362570</td>\n",
       "      <td>10</td>\n",
       "    </tr>\n",
       "  </tbody>\n",
       "</table>\n",
       "</div>"
      ],
      "text/plain": [
       "    air_pressure  air_temp  avg_wind_direction  avg_wind_speed  \\\n",
       "5       0.060836 -0.788830           -1.196685       -0.570956   \n",
       "8       0.250085 -0.994668            0.659386       -0.547028   \n",
       "9      -1.180985 -0.874651            0.446880        1.978765   \n",
       "10     -0.839190 -1.199741            0.375237        0.359693   \n",
       "\n",
       "    max_wind_direction  max_wind_speed  relative_humidity  prediction  \n",
       "5            -1.042689       -0.585492           0.878319           5  \n",
       "8             0.850396       -0.529779           1.159146           8  \n",
       "9             0.538842        1.940216           0.912599           9  \n",
       "10            0.473561        0.347597           1.362570          10  "
      ]
     },
     "execution_count": 31,
     "metadata": {},
     "output_type": "execute_result"
    }
   ],
   "source": [
    "P[(P['relative_humidity'] > 0.5) & (P['air_temp'] < 0.5)]"
   ]
  },
  {
   "cell_type": "code",
   "execution_count": 27,
   "metadata": {},
   "outputs": [
    {
     "data": {
      "image/png": "[encoded data removed]",
      "text/plain": [
       "<Figure size 1080x576 with 1 Axes>"
      ]
     },
     "metadata": {
      "needs_background": "light"
     },
     "output_type": "display_data"
    }
   ],
   "source": [
    "parallel_plot(P[(P['relative_humidity'] > 0.5) & (P['air_temp'] < 0.5)])"
   ]
  }
 ],
 "metadata": {
  "kernelspec": {
   "display_name": "Python 3",
   "language": "python",
   "name": "python3"
  },
  "language_info": {
   "codemirror_mode": {
    "name": "ipython",
    "version": 3
   },
   "file_extension": ".py",
   "mimetype": "text/x-python",
   "name": "python",
   "nbconvert_exporter": "python",
   "pygments_lexer": "ipython3",
   "version": "3.7.4"
  }
 },
 "nbformat": 4,
 "nbformat_minor": 2
}
